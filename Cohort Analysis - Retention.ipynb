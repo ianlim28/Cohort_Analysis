{
 "cells": [
  {
   "cell_type": "markdown",
   "metadata": {},
   "source": [
    "# *Customer Segmentation*\n",
    "\n",
    "## Introduction\n",
    "\n",
    "More often than not, i've been asked \"Hey Ian, i would like know how good are our new customers, are they spending as much money on our product as we'd originally thought they would?\" or in the case of telco industry, \"How often are our roamers travelling?\". There are probably a number of thoughts going through your head right now as to ways in which you should or can slice and dice data to have a clearer picture. I found this course about [*Customer Segmentation in Python*](https://www.datacamp.com/courses/customer-segmentation-in-python) by Karolis Urbonas on Data camp that i think is really useful for the future. It uses a dataset from UCI Machine Learning Repository. Depending on what questions you are trying to answer, you can use this as a guiding framework. This notebook is split into 2 major sections, the first one will be going through *cohort analysis* and the second one will be going through *clustering*.\n",
    "\n",
    "\n",
    "1. Cohort Analysis\n",
    "    * 1.1. [Loading data sets and packages](#t1.1)\n",
    "    * 1.2. [Data wrangling](#t1.2)\n",
    "    * 1.3. [Getting cohorts](#t1.3)\n",
    "    * 1.4. [Visualizing cohorts](#t1.4)\n",
    "    * 1.5. [RFM (Recency, Frequency, Monetary)](#t1.5)\n",
    "    * 1.6. [Percentile and labelling](#t1.6)\n",
    "    * 1.7. [Analyzing customer segments - RFM](#t1.7)\n",
    "\n",
    "2. Clustering\n",
    "    * 2.1. [Preprocessing](#t2.1)\n",
    "    * 2.2. [Center and Scaling](#t2.2)\n",
    "    * 2.3. [Implementation of K-means clustering](#t2.3)\n",
    "    * 2.4. [Customer personas analysis](#t2.4)\n",
    "3. [Weakness in KMeans](#t3)\n",
    "    "
   ]
  },
  {
   "cell_type": "markdown",
   "metadata": {},
   "source": [
    "<a id=\"t1.1\"></a>\n",
    "#### 1.1. Loading data sets and packages"
   ]
  },
  {
   "cell_type": "code",
   "execution_count": 1,
   "metadata": {},
   "outputs": [
    {
     "name": "stdout",
     "output_type": "stream",
     "text": [
      "<class 'pandas.core.frame.DataFrame'>\n",
      "RangeIndex: 70864 entries, 0 to 70863\n",
      "Data columns (total 9 columns):\n",
      "Unnamed: 0     70864 non-null int64\n",
      "InvoiceNo      70864 non-null int64\n",
      "StockCode      70864 non-null object\n",
      "Description    70864 non-null object\n",
      "Quantity       70864 non-null int64\n",
      "InvoiceDate    70864 non-null datetime64[ns]\n",
      "UnitPrice      70864 non-null float64\n",
      "CustomerID     70864 non-null int64\n",
      "Country        70864 non-null object\n",
      "dtypes: datetime64[ns](1), float64(1), int64(4), object(3)\n",
      "memory usage: 4.9+ MB\n"
     ]
    }
   ],
   "source": [
    "import pandas as pd\n",
    "import datetime as dt\n",
    "import seaborn as sns\n",
    "import matplotlib.pyplot as plt\n",
    "import datetime as dt\n",
    "import numpy as np\n",
    "from sklearn.preprocessing import StandardScaler\n",
    "dateCols = ['InvoiceDate']\n",
    "online = pd.read_csv('online.csv', parse_dates = dateCols) \n",
    "\n",
    "# Double checking the date column is loaded as dates\n",
    "online.info()"
   ]
  },
  {
   "cell_type": "markdown",
   "metadata": {},
   "source": [
    "<a id=\"t1.2\"></a>\n",
    "#### 1.2. Data wrangling"
   ]
  },
  {
   "cell_type": "code",
   "execution_count": 2,
   "metadata": {},
   "outputs": [],
   "source": [
    "# this function is to get the first day of the month\n",
    "def get_month(x):\n",
    "    return dt.date(x.year, x.month,1)\n",
    "\n",
    "# after getting the month from invoice date, i convert it to datetime format\n",
    "online['InvoiceMonth'] = pd.to_datetime(online['InvoiceDate'].apply(get_month))\n",
    "\n",
    "# checking the format the invoicemonth\n",
    "#online.info()"
   ]
  },
  {
   "cell_type": "code",
   "execution_count": 3,
   "metadata": {},
   "outputs": [],
   "source": [
    "# Need to group by customer id and invoice month in order to work out when was the first purchase day as we \n",
    "#define that as the start of the cohort\n",
    "grouping = online.groupby('CustomerID')['InvoiceMonth']\n",
    "\n",
    "# to get the first transaction month\n",
    "online['CohortMonth'] = grouping.transform('min')\n",
    "\n",
    "# customer 14286's first purchase was made on 2011-04-11, lets filter for the customer and have a look at their transaction \n",
    "# just a sanity check\n",
    "#online.loc[online['CustomerID'] == 14286].sort_values('InvoiceDate')\n"
   ]
  },
  {
   "cell_type": "code",
   "execution_count": 4,
   "metadata": {},
   "outputs": [],
   "source": [
    "# define a function to extract the individual year, month and day integer values\n",
    "def get_date_int(df, column):\n",
    "    year = df[column].dt.year\n",
    "    month = df[column].dt.month\n",
    "    day = df[column].dt.month\n",
    "    return year, month, day\n",
    "\n",
    "# getting the respective year and month, days can be ignored as we are not using it\n",
    "invoice_year, invoice_month, invoice_day = get_date_int(online, 'InvoiceMonth')\n",
    "cohort_year, cohort_month, cohort_day = get_date_int(online, 'CohortMonth')\n",
    "\n",
    "# to work out the difference in time between the first transaction made and the current transaction\n",
    "years_diff = invoice_year - cohort_year\n",
    "months_diff = invoice_month - cohort_month\n",
    "days_diff = invoice_day - cohort_day\n"
   ]
  },
  {
   "cell_type": "markdown",
   "metadata": {},
   "source": [
    "<a id=\"t1.3\"></a>\n",
    "#### 1.3. Getting cohorts"
   ]
  },
  {
   "cell_type": "code",
   "execution_count": 5,
   "metadata": {},
   "outputs": [
    {
     "data": {
      "text/html": [
       "<div>\n",
       "<style scoped>\n",
       "    .dataframe tbody tr th:only-of-type {\n",
       "        vertical-align: middle;\n",
       "    }\n",
       "\n",
       "    .dataframe tbody tr th {\n",
       "        vertical-align: top;\n",
       "    }\n",
       "\n",
       "    .dataframe thead th {\n",
       "        text-align: right;\n",
       "    }\n",
       "</style>\n",
       "<table border=\"1\" class=\"dataframe\">\n",
       "  <thead>\n",
       "    <tr style=\"text-align: right;\">\n",
       "      <th></th>\n",
       "      <th>Unnamed: 0</th>\n",
       "      <th>InvoiceNo</th>\n",
       "      <th>StockCode</th>\n",
       "      <th>Description</th>\n",
       "      <th>Quantity</th>\n",
       "      <th>InvoiceDate</th>\n",
       "      <th>UnitPrice</th>\n",
       "      <th>CustomerID</th>\n",
       "      <th>Country</th>\n",
       "      <th>InvoiceMonth</th>\n",
       "      <th>CohortMonth</th>\n",
       "      <th>CohortIndex</th>\n",
       "    </tr>\n",
       "  </thead>\n",
       "  <tbody>\n",
       "    <tr>\n",
       "      <th>0</th>\n",
       "      <td>416792</td>\n",
       "      <td>572558</td>\n",
       "      <td>22745</td>\n",
       "      <td>POPPY'S PLAYHOUSE BEDROOM</td>\n",
       "      <td>6</td>\n",
       "      <td>2011-10-25 08:26:00</td>\n",
       "      <td>2.10</td>\n",
       "      <td>14286</td>\n",
       "      <td>United Kingdom</td>\n",
       "      <td>2011-10-01</td>\n",
       "      <td>2011-04-01</td>\n",
       "      <td>7</td>\n",
       "    </tr>\n",
       "    <tr>\n",
       "      <th>1</th>\n",
       "      <td>482904</td>\n",
       "      <td>577485</td>\n",
       "      <td>23196</td>\n",
       "      <td>VINTAGE LEAF MAGNETIC NOTEPAD</td>\n",
       "      <td>1</td>\n",
       "      <td>2011-11-20 11:56:00</td>\n",
       "      <td>1.45</td>\n",
       "      <td>16360</td>\n",
       "      <td>United Kingdom</td>\n",
       "      <td>2011-11-01</td>\n",
       "      <td>2011-09-01</td>\n",
       "      <td>3</td>\n",
       "    </tr>\n",
       "    <tr>\n",
       "      <th>2</th>\n",
       "      <td>263743</td>\n",
       "      <td>560034</td>\n",
       "      <td>23299</td>\n",
       "      <td>FOOD COVER WITH BEADS SET 2</td>\n",
       "      <td>6</td>\n",
       "      <td>2011-07-14 13:35:00</td>\n",
       "      <td>3.75</td>\n",
       "      <td>13933</td>\n",
       "      <td>United Kingdom</td>\n",
       "      <td>2011-07-01</td>\n",
       "      <td>2011-07-01</td>\n",
       "      <td>1</td>\n",
       "    </tr>\n",
       "  </tbody>\n",
       "</table>\n",
       "</div>"
      ],
      "text/plain": [
       "   Unnamed: 0  InvoiceNo StockCode                    Description  Quantity  \\\n",
       "0      416792     572558     22745     POPPY'S PLAYHOUSE BEDROOM          6   \n",
       "1      482904     577485     23196  VINTAGE LEAF MAGNETIC NOTEPAD         1   \n",
       "2      263743     560034     23299   FOOD COVER WITH BEADS SET 2          6   \n",
       "\n",
       "          InvoiceDate  UnitPrice  CustomerID         Country InvoiceMonth  \\\n",
       "0 2011-10-25 08:26:00       2.10       14286  United Kingdom   2011-10-01   \n",
       "1 2011-11-20 11:56:00       1.45       16360  United Kingdom   2011-11-01   \n",
       "2 2011-07-14 13:35:00       3.75       13933  United Kingdom   2011-07-01   \n",
       "\n",
       "  CohortMonth  CohortIndex  \n",
       "0  2011-04-01            7  \n",
       "1  2011-09-01            3  \n",
       "2  2011-07-01            1  "
      ]
     },
     "execution_count": 5,
     "metadata": {},
     "output_type": "execute_result"
    }
   ],
   "source": [
    "# Extract the difference in months from all previous values\n",
    "online['CohortIndex'] = years_diff*12 + months_diff + 1\n",
    "online.head(n=3)"
   ]
  },
  {
   "cell_type": "code",
   "execution_count": 6,
   "metadata": {},
   "outputs": [],
   "source": [
    "#in order to see retention, we need to group by cohort\n",
    "grouping = online.groupby(['CohortMonth','CohortIndex'])\n",
    "\n",
    "# Depending on what metric you are after, you should group by different things ie customer id for counting unique or average price per product\n",
    "cohort_data = grouping['CustomerID'].apply(pd.Series.nunique) #its in series format after grouping, hence need to reset index\n",
    "cohort_data = cohort_data.reset_index()\n",
    "cohort_data['CohortMonth'] = cohort_data['CohortMonth'].dt.date # i had to do this get rid of the time on the datetime\n",
    "#cohort_data.info() # back in dataframe format\n",
    "cohort_counts = cohort_data.pivot(index = 'CohortMonth',\n",
    "                                  columns = 'CohortIndex',\n",
    "                                  values = 'CustomerID')\n"
   ]
  },
  {
   "cell_type": "code",
   "execution_count": 7,
   "metadata": {},
   "outputs": [],
   "source": [
    "# store first column as cohort sizes because we need to divide the rest of the columnds by the first column\n",
    "cohort_sizes = cohort_counts.iloc[:,0]\n",
    "retention = cohort_counts.divide(cohort_sizes, axis = 0)\n",
    "\n",
    "# Converting the values into percentage\n",
    "#retention.info()"
   ]
  },
  {
   "cell_type": "markdown",
   "metadata": {},
   "source": [
    "<a id=\"t1.4\"></a>\n",
    "#### 1.4.Visualizing Cohorts"
   ]
  },
  {
   "cell_type": "code",
   "execution_count": 8,
   "metadata": {},
   "outputs": [
    {
     "data": {
      "image/png": "[encoded data removed]",
      "text/plain": [
       "<Figure size 720x576 with 2 Axes>"
      ]
     },
     "metadata": {},
     "output_type": "display_data"
    }
   ],
   "source": [
    "plt.figure(figsize=(10,8))\n",
    "sns.heatmap(data = retention,\n",
    "           annot=True,\n",
    "           fmt = '.0%',\n",
    "           cmap = 'BuGn')\n",
    "plt.title('Retention rates')\n",
    "plt.show()"
   ]
  },
  {
   "cell_type": "markdown",
   "metadata": {},
   "source": [
    "<a id=\"t1.5\"></a>\n",
    "#### 1.5. RFM (Recency, Frequency, Monetary Value)\n",
    "\n",
    "* Recency (R)\n",
    " * days since last customer transaction\n",
    "* Frequency (F)\n",
    " * number of transactions in the last 12 months\n",
    "* Monetary Value (M)\n",
    " * total spend in the last 12 months\n",
    " RFM values can be grouped in several ways\n",
    " * Percentiles eg quantiles\n",
    " * Pareto 80/20 cut\n",
    " * Custom - based on business knowledge\n",
    " 1. Sort customers based on that metric\n",
    " 2. Break customers into a pre-defined number of groups of equal size\n",
    " 3. assign a label to each group\n",
    " Assign labels\n",
    " * Highest score to the best metric - best is not always highest eg recency\n",
    " \n",
    " "
   ]
  },
  {
   "cell_type": "code",
   "execution_count": 9,
   "metadata": {},
   "outputs": [
    {
     "name": "stdout",
     "output_type": "stream",
     "text": [
      "Min:2010-12-01 08:26:00; Max:2011-12-09 12:49:00\n"
     ]
    }
   ],
   "source": [
    "# prep data for RFM\n",
    "# confirm dataframe with only the latest 12 months\n",
    "print('Min:{}; Max:{}'.format(min(online.InvoiceDate), max(online.InvoiceDate)))"
   ]
  },
  {
   "cell_type": "code",
   "execution_count": 10,
   "metadata": {},
   "outputs": [],
   "source": [
    "snapshot_date = max(online.InvoiceDate) + dt.timedelta(days = 1)"
   ]
  },
  {
   "cell_type": "code",
   "execution_count": 11,
   "metadata": {},
   "outputs": [],
   "source": [
    "online['TotalSum'] = online['Quantity'] * online['UnitPrice']"
   ]
  },
  {
   "cell_type": "code",
   "execution_count": 12,
   "metadata": {},
   "outputs": [
    {
     "data": {
      "text/html": [
       "<div>\n",
       "<style scoped>\n",
       "    .dataframe tbody tr th:only-of-type {\n",
       "        vertical-align: middle;\n",
       "    }\n",
       "\n",
       "    .dataframe tbody tr th {\n",
       "        vertical-align: top;\n",
       "    }\n",
       "\n",
       "    .dataframe thead th {\n",
       "        text-align: right;\n",
       "    }\n",
       "</style>\n",
       "<table border=\"1\" class=\"dataframe\">\n",
       "  <thead>\n",
       "    <tr style=\"text-align: right;\">\n",
       "      <th></th>\n",
       "      <th>Recency</th>\n",
       "      <th>Frequency</th>\n",
       "      <th>MonetaryValue</th>\n",
       "    </tr>\n",
       "    <tr>\n",
       "      <th>CustomerID</th>\n",
       "      <th></th>\n",
       "      <th></th>\n",
       "      <th></th>\n",
       "    </tr>\n",
       "  </thead>\n",
       "  <tbody>\n",
       "    <tr>\n",
       "      <th>12747</th>\n",
       "      <td>2</td>\n",
       "      <td>27</td>\n",
       "      <td>992.82</td>\n",
       "    </tr>\n",
       "    <tr>\n",
       "      <th>12748</th>\n",
       "      <td>1</td>\n",
       "      <td>967</td>\n",
       "      <td>7522.06</td>\n",
       "    </tr>\n",
       "    <tr>\n",
       "      <th>12749</th>\n",
       "      <td>4</td>\n",
       "      <td>37</td>\n",
       "      <td>813.45</td>\n",
       "    </tr>\n",
       "    <tr>\n",
       "      <th>12820</th>\n",
       "      <td>3</td>\n",
       "      <td>17</td>\n",
       "      <td>268.02</td>\n",
       "    </tr>\n",
       "    <tr>\n",
       "      <th>12822</th>\n",
       "      <td>71</td>\n",
       "      <td>9</td>\n",
       "      <td>146.15</td>\n",
       "    </tr>\n",
       "  </tbody>\n",
       "</table>\n",
       "</div>"
      ],
      "text/plain": [
       "            Recency  Frequency  MonetaryValue\n",
       "CustomerID                                   \n",
       "12747             2         27         992.82\n",
       "12748             1        967        7522.06\n",
       "12749             4         37         813.45\n",
       "12820             3         17         268.02\n",
       "12822            71          9         146.15"
      ]
     },
     "execution_count": 12,
     "metadata": {},
     "output_type": "execute_result"
    }
   ],
   "source": [
    "datamart = online.groupby(['CustomerID']).agg({\n",
    "                                                'InvoiceDate': lambda x: (snapshot_date - x.max()).days,\n",
    "                                                'InvoiceNo': 'count',\n",
    "                                                'TotalSum': 'sum'\n",
    "                                            })\n",
    "# renaming the datamart\n",
    "datamart.rename(columns = {'InvoiceDate': 'Recency',\n",
    "                          'InvoiceNo': 'Frequency',\n",
    "                          'TotalSum': 'MonetaryValue'}, inplace = True)\n",
    "datamart.head()"
   ]
  },
  {
   "cell_type": "markdown",
   "metadata": {},
   "source": [
    "<a id=\"t1.6\"></a>\n",
    "#### 1.6. Percentile and labelling"
   ]
  },
  {
   "cell_type": "code",
   "execution_count": 13,
   "metadata": {},
   "outputs": [
    {
     "name": "stdout",
     "output_type": "stream",
     "text": [
      "CustomerID\n",
      "12747    9.0\n",
      "12748    9.0\n",
      "12749    9.0\n",
      "12820    9.0\n",
      "12822    6.0\n",
      "Name: RFM_Score, dtype: float64\n"
     ]
    }
   ],
   "source": [
    "# create labels for recency and frequency\n",
    "r_labels = range(3,0,-1)\n",
    "f_labels = range(1,4)\n",
    "\n",
    "# Assign these labels to three equal percentile groups\n",
    "r_groups = pd.qcut(datamart['Recency'], q=3, labels = r_labels)\n",
    "\n",
    "# assign these labels to three equal percentile groups\n",
    "f_groups = pd.qcut(datamart['Frequency'], q=3, labels = f_labels)\n",
    "\n",
    "# create new columns R and F\n",
    "datamart = datamart.assign(R = r_groups.values, F = f_groups.values)\n",
    "\n",
    "#create labels for monetary value\n",
    "m_labels = range(1,4)\n",
    "\n",
    "# assign these labels to three equal percentile groups\n",
    "m_groups = pd.qcut(datamart['MonetaryValue'], q = 3, labels = m_labels)\n",
    "\n",
    "# create new column M\n",
    "datamart = datamart.assign(M=m_groups.values)\n",
    "\n",
    "# calculate RFM_Score\n",
    "datamart['RFM_Score'] = datamart[['R','F','M']].sum(axis = 1)\n",
    "print(datamart['RFM_Score'].head())"
   ]
  },
  {
   "cell_type": "markdown",
   "metadata": {},
   "source": [
    "<a id=\"t1.7\"></a>\n",
    "#### 1.7. Analyzing customer segments - RFM"
   ]
  },
  {
   "cell_type": "code",
   "execution_count": 14,
   "metadata": {},
   "outputs": [
    {
     "data": {
      "text/html": [
       "<div>\n",
       "<style scoped>\n",
       "    .dataframe tbody tr th:only-of-type {\n",
       "        vertical-align: middle;\n",
       "    }\n",
       "\n",
       "    .dataframe tbody tr th {\n",
       "        vertical-align: top;\n",
       "    }\n",
       "\n",
       "    .dataframe thead th {\n",
       "        text-align: right;\n",
       "    }\n",
       "</style>\n",
       "<table border=\"1\" class=\"dataframe\">\n",
       "  <thead>\n",
       "    <tr style=\"text-align: right;\">\n",
       "      <th></th>\n",
       "      <th>Recency</th>\n",
       "      <th>Frequency</th>\n",
       "      <th>MonetaryValue</th>\n",
       "      <th>R</th>\n",
       "      <th>F</th>\n",
       "      <th>M</th>\n",
       "      <th>RFM_Score</th>\n",
       "      <th>RFM_Level</th>\n",
       "    </tr>\n",
       "    <tr>\n",
       "      <th>CustomerID</th>\n",
       "      <th></th>\n",
       "      <th></th>\n",
       "      <th></th>\n",
       "      <th></th>\n",
       "      <th></th>\n",
       "      <th></th>\n",
       "      <th></th>\n",
       "      <th></th>\n",
       "    </tr>\n",
       "  </thead>\n",
       "  <tbody>\n",
       "    <tr>\n",
       "      <th>12747</th>\n",
       "      <td>2</td>\n",
       "      <td>27</td>\n",
       "      <td>992.82</td>\n",
       "      <td>3</td>\n",
       "      <td>3</td>\n",
       "      <td>3</td>\n",
       "      <td>9.0</td>\n",
       "      <td>Middle</td>\n",
       "    </tr>\n",
       "    <tr>\n",
       "      <th>12748</th>\n",
       "      <td>1</td>\n",
       "      <td>967</td>\n",
       "      <td>7522.06</td>\n",
       "      <td>3</td>\n",
       "      <td>3</td>\n",
       "      <td>3</td>\n",
       "      <td>9.0</td>\n",
       "      <td>Middle</td>\n",
       "    </tr>\n",
       "    <tr>\n",
       "      <th>12749</th>\n",
       "      <td>4</td>\n",
       "      <td>37</td>\n",
       "      <td>813.45</td>\n",
       "      <td>3</td>\n",
       "      <td>3</td>\n",
       "      <td>3</td>\n",
       "      <td>9.0</td>\n",
       "      <td>Middle</td>\n",
       "    </tr>\n",
       "    <tr>\n",
       "      <th>12820</th>\n",
       "      <td>3</td>\n",
       "      <td>17</td>\n",
       "      <td>268.02</td>\n",
       "      <td>3</td>\n",
       "      <td>3</td>\n",
       "      <td>3</td>\n",
       "      <td>9.0</td>\n",
       "      <td>Middle</td>\n",
       "    </tr>\n",
       "    <tr>\n",
       "      <th>12822</th>\n",
       "      <td>71</td>\n",
       "      <td>9</td>\n",
       "      <td>146.15</td>\n",
       "      <td>2</td>\n",
       "      <td>2</td>\n",
       "      <td>2</td>\n",
       "      <td>6.0</td>\n",
       "      <td>Low</td>\n",
       "    </tr>\n",
       "  </tbody>\n",
       "</table>\n",
       "</div>"
      ],
      "text/plain": [
       "            Recency  Frequency  MonetaryValue  R  F  M  RFM_Score RFM_Level\n",
       "CustomerID                                                                 \n",
       "12747             2         27         992.82  3  3  3        9.0    Middle\n",
       "12748             1        967        7522.06  3  3  3        9.0    Middle\n",
       "12749             4         37         813.45  3  3  3        9.0    Middle\n",
       "12820             3         17         268.02  3  3  3        9.0    Middle\n",
       "12822            71          9         146.15  2  2  2        6.0       Low"
      ]
     },
     "execution_count": 14,
     "metadata": {},
     "output_type": "execute_result"
    }
   ],
   "source": [
    "# creating custom segments\n",
    "def rfm_level(df):\n",
    "    if df['RFM_Score'] >= 10:\n",
    "        return 'Top'\n",
    "    elif ((df['RFM_Score'] > 6) and (df['RFM_Score'] < 10)):\n",
    "        return 'Middle'\n",
    "    else:\n",
    "        return 'Low'\n",
    "    \n",
    "# Create a new variable RFM_Level\n",
    "datamart['RFM_Level'] = datamart.apply(rfm_level, axis = 1)\n",
    "\n",
    "datamart.head()"
   ]
  },
  {
   "cell_type": "markdown",
   "metadata": {},
   "source": [
    "\n",
    "#### Analyzing customer segments"
   ]
  },
  {
   "cell_type": "code",
   "execution_count": 15,
   "metadata": {},
   "outputs": [
    {
     "data": {
      "text/html": [
       "<div>\n",
       "<style scoped>\n",
       "    .dataframe tbody tr th:only-of-type {\n",
       "        vertical-align: middle;\n",
       "    }\n",
       "\n",
       "    .dataframe tbody tr th {\n",
       "        vertical-align: top;\n",
       "    }\n",
       "\n",
       "    .dataframe thead tr th {\n",
       "        text-align: left;\n",
       "    }\n",
       "\n",
       "    .dataframe thead tr:last-of-type th {\n",
       "        text-align: right;\n",
       "    }\n",
       "</style>\n",
       "<table border=\"1\" class=\"dataframe\">\n",
       "  <thead>\n",
       "    <tr>\n",
       "      <th></th>\n",
       "      <th>Recency</th>\n",
       "      <th>Frequency</th>\n",
       "      <th colspan=\"2\" halign=\"left\">MonetaryValue</th>\n",
       "    </tr>\n",
       "    <tr>\n",
       "      <th></th>\n",
       "      <th>mean</th>\n",
       "      <th>mean</th>\n",
       "      <th>mean</th>\n",
       "      <th>count</th>\n",
       "    </tr>\n",
       "    <tr>\n",
       "      <th>RFM_Level</th>\n",
       "      <th></th>\n",
       "      <th></th>\n",
       "      <th></th>\n",
       "      <th></th>\n",
       "    </tr>\n",
       "  </thead>\n",
       "  <tbody>\n",
       "    <tr>\n",
       "      <th>Low</th>\n",
       "      <td>139.2</td>\n",
       "      <td>6.0</td>\n",
       "      <td>109.0</td>\n",
       "      <td>2170</td>\n",
       "    </tr>\n",
       "    <tr>\n",
       "      <th>Middle</th>\n",
       "      <td>30.7</td>\n",
       "      <td>37.8</td>\n",
       "      <td>765.4</td>\n",
       "      <td>1531</td>\n",
       "    </tr>\n",
       "  </tbody>\n",
       "</table>\n",
       "</div>"
      ],
      "text/plain": [
       "          Recency Frequency MonetaryValue      \n",
       "             mean      mean          mean count\n",
       "RFM_Level                                      \n",
       "Low         139.2       6.0         109.0  2170\n",
       "Middle       30.7      37.8         765.4  1531"
      ]
     },
     "execution_count": 15,
     "metadata": {},
     "output_type": "execute_result"
    }
   ],
   "source": [
    "# Analyzing custom segments\n",
    "rfm_level_agg = datamart.groupby('RFM_Level').agg({\n",
    "    'Recency':'mean',\n",
    "    'Frequency':'mean',\n",
    "    'MonetaryValue':['mean','count']\n",
    "}).round(1)\n",
    "\n",
    "rfm_level_agg"
   ]
  },
  {
   "cell_type": "markdown",
   "metadata": {},
   "source": [
    "## 2. KMeans Clustering \n",
    "`sklearn.cluster.KMeans` [Documentation](https://scikit-learn.org/stable/modules/generated/sklearn.cluster.KMeans.html)"
   ]
  },
  {
   "cell_type": "markdown",
   "metadata": {},
   "source": [
    "<a id=\"t2.1\"></a>\n",
    "### 2.1. Preprocessing data \n",
    "* symmetric distribution of variables (not skewed)\n",
    "* variables with the same mean values\n",
    "* variables with same variance\n",
    "* skew can be removed with logarithmic transformation  [(visualizing log transformation)](http://onlinestatbook.com/2/transformations/log.html)\n",
    "* k means assumes equal mean and equal variance\n",
    "\n",
    "[Why bother preprocessing our data before KMeans clustering?](https://www.edupristine.com/blog/k-means-algorithm)"
   ]
  },
  {
   "cell_type": "code",
   "execution_count": 16,
   "metadata": {},
   "outputs": [
    {
     "data": {
      "text/plain": [
       "<matplotlib.axes._subplots.AxesSubplot at 0xafac400>"
      ]
     },
     "execution_count": 16,
     "metadata": {},
     "output_type": "execute_result"
    },
    {
     "data": {
      "image/png": "[encoded data removed]",
      "text/plain": [
       "<Figure size 432x288 with 3 Axes>"
      ]
     },
     "metadata": {},
     "output_type": "display_data"
    }
   ],
   "source": [
    "# explore the skewness of data\n",
    "plt.subplot(3,1,1);sns.distplot(datamart['Recency'])\n",
    "plt.subplot(3,1,2);sns.distplot(datamart['Frequency'])\n",
    "plt.subplot(3,1,3);sns.distplot(datamart['MonetaryValue'])"
   ]
  },
  {
   "cell_type": "code",
   "execution_count": 17,
   "metadata": {},
   "outputs": [
    {
     "data": {
      "text/plain": [
       "<matplotlib.axes._subplots.AxesSubplot at 0xb4c1fd0>"
      ]
     },
     "execution_count": 17,
     "metadata": {},
     "output_type": "execute_result"
    },
    {
     "data": {
      "image/png": "[encoded data removed]",
      "text/plain": [
       "<Figure size 432x288 with 3 Axes>"
      ]
     },
     "metadata": {},
     "output_type": "display_data"
    }
   ],
   "source": [
    "# log transform the skewness of data \n",
    "plt.subplot(3,1,1);sns.distplot(np.log(datamart['Recency']))\n",
    "plt.subplot(3,1,2);sns.distplot(np.log(datamart['Frequency']))\n",
    "plt.subplot(3,1,3);sns.distplot(np.log(datamart['MonetaryValue']))"
   ]
  },
  {
   "cell_type": "markdown",
   "metadata": {},
   "source": [
    "<a id=\"t2.2\"></a>\n",
    "### 2.2. Centre and Scaling\n",
    "K-means works best on variables with the same mean, so we must first identify the issue and compare variable's mean and standard deviation <br>\n",
    "**Centering** can be done by substracting average value from each observation <br>\n",
    "**Scaling** can be done by dividing them by standard deviation of each"
   ]
  },
  {
   "cell_type": "code",
   "execution_count": 18,
   "metadata": {},
   "outputs": [
    {
     "data": {
      "text/plain": [
       "count    3701.00\n",
       "mean       -0.00\n",
       "std         1.00\n",
       "min        -0.93\n",
       "25%        -0.75\n",
       "50%        -0.42\n",
       "75%         0.57\n",
       "max         2.80\n",
       "Name: Recency, dtype: float64"
      ]
     },
     "execution_count": 18,
     "metadata": {},
     "output_type": "execute_result"
    }
   ],
   "source": [
    "# lets try to do it manually but theres a much simpler way\n",
    "recency_center = datamart['Recency'] - datamart['Recency'].mean() \n",
    "\n",
    "recency_scale = datamart['Recency'] / datamart['Recency'].std()\n",
    "\n",
    "recency_normalized = (datamart['Recency'] - datamart['Recency'].mean()) / datamart['Recency'].std()\n",
    "recency_normalized.describe().round(2)"
   ]
  },
  {
   "cell_type": "markdown",
   "metadata": {},
   "source": [
    "The *sequence* in which we transform and scale is important due to the following reasons:\n",
    "* log transmation only works with positive data [(stackexchange)](https://stats.stackexchange.com/questions/155429/how-to-transform-negative-values-to-logarithms)\n",
    "* normalization forces data to have negative values and log will not work \n",
    "\n",
    "**Steps** to unskew and scale:\n",
    "1. Unskew the data - log transformation\n",
    "2. standardize to the same average values\n",
    "3. scale to the same standard deviation\n",
    "4. store as a separate array to be used for clustering (need original data to calculate statistics)"
   ]
  },
  {
   "cell_type": "code",
   "execution_count": 19,
   "metadata": {},
   "outputs": [],
   "source": [
    "datamart_rfm = datamart.iloc[:,0:3]\n",
    "#unskew data\n",
    "datamart_log = np.log(datamart_rfm)\n",
    "# initialize standard scaler\n",
    "scaler = StandardScaler()\n",
    "scaler.fit(datamart_log)\n",
    "\n",
    "# scale and center data\n",
    "datamart_normalized = scaler.transform(datamart_log)\n",
    "\n",
    "#create a pandas dataframe\n",
    "datamart_normalized = pd.DataFrame(data = datamart_normalized, index = datamart_rfm.index, columns= datamart_rfm.columns)"
   ]
  },
  {
   "cell_type": "markdown",
   "metadata": {},
   "source": [
    "<a id=\"t2.3\"></a>\n",
    "### 2.3. Implementation of K-means clustering\n",
    "How many clusters should we be building our K-means on? Well, there is no hard and fast rule and we should always experiment with different clusters, as well as visually checking them!\n",
    "\n",
    "* 2.3.1 choosing a number of clusters\n",
    "* 2.3.2 running k-means clustering on pre-processed data\n",
    "* 2.3.3 analyzing average RFM values of each cluster"
   ]
  },
  {
   "cell_type": "markdown",
   "metadata": {},
   "source": [
    "#### 2.3.1 Choosing number of clusters\n",
    "* Visual methods - elbow criterion\n",
    "    * plot the number of clusters against within-cluster sum of squared errors\n",
    "    * identify an 'elbow' in the plot\n",
    "    * elbow - a point representing an 'optimal' number of clusters\n",
    "    * best to choose the point on elbow\n",
    "    * use as a guide but test multiple solutions\n",
    "    * analyze their properties - average RFM values\n",
    "    * compare against each other and choose one which makes most business sense\n",
    "* mathematical methods - silhouette coefficient [sklearn documentation for silhouette](https://scikit-learn.org/stable/auto_examples/cluster/plot_kmeans_silhouette_analysis.html)\n",
    "* experimentation and interpretation"
   ]
  },
  {
   "cell_type": "code",
   "execution_count": 20,
   "metadata": {},
   "outputs": [],
   "source": [
    "# Fit Kmeans and calculate SSE for each K\n",
    "from sklearn.cluster import KMeans\n",
    "sse = {}\n",
    "for k in range(1,21):\n",
    "    \n",
    "    #Initialize KMeans with k clusters\n",
    "    kmeans = KMeans(n_clusters = k, random_state=1)\n",
    "    \n",
    "    #Fit KMeans on the normalized dataset\n",
    "    kmeans.fit(datamart_normalized)\n",
    "    \n",
    "    #Assign sum of squared distances to k element of dictionary\n",
    "    sse[k] = kmeans.inertia_"
   ]
  },
  {
   "cell_type": "code",
   "execution_count": 21,
   "metadata": {},
   "outputs": [
    {
     "data": {
      "image/png": "[encoded data removed]",
      "text/plain": [
       "<Figure size 432x288 with 1 Axes>"
      ]
     },
     "metadata": {},
     "output_type": "display_data"
    }
   ],
   "source": [
    "# add the plot title 'the elbow method'\n",
    "plt.title('The Elbow Method')\n",
    "\n",
    "# add x-axis label K\n",
    "plt.xlabel('k')\n",
    "\n",
    "# add y-axis label 'sse'\n",
    "plt.ylabel('SSE')\n",
    "\n",
    "# plot SSE values for each key in the dictionary\n",
    "sns.pointplot(x=list(sse.keys()), y = list(sse.values()))\n",
    "plt.show()"
   ]
  },
  {
   "cell_type": "markdown",
   "metadata": {},
   "source": [
    "#### 2.3.2 Running K-means clustering on preprocessed data"
   ]
  },
  {
   "cell_type": "code",
   "execution_count": 22,
   "metadata": {},
   "outputs": [
    {
     "data": {
      "text/plain": [
       "4457.000273214813"
      ]
     },
     "execution_count": 22,
     "metadata": {},
     "output_type": "execute_result"
    }
   ],
   "source": [
    "from sklearn.cluster import KMeans\n",
    "\n",
    "kmeans = KMeans(n_clusters = 3, random_state = 1)\n",
    "\n",
    "kmeans.fit(datamart_normalized)\n",
    "\n",
    "#extracting cluster labels\n",
    "cluster_labels = kmeans.labels_\n",
    "\n",
    "# getting the sum of squared distances\n",
    "kmeans.inertia_"
   ]
  },
  {
   "cell_type": "markdown",
   "metadata": {},
   "source": [
    "#### 2.3.3 Analyzing average RFM values for each cluster"
   ]
  },
  {
   "cell_type": "code",
   "execution_count": 23,
   "metadata": {
    "scrolled": true
   },
   "outputs": [
    {
     "data": {
      "text/html": [
       "<div>\n",
       "<style scoped>\n",
       "    .dataframe tbody tr th:only-of-type {\n",
       "        vertical-align: middle;\n",
       "    }\n",
       "\n",
       "    .dataframe tbody tr th {\n",
       "        vertical-align: top;\n",
       "    }\n",
       "\n",
       "    .dataframe thead tr th {\n",
       "        text-align: left;\n",
       "    }\n",
       "\n",
       "    .dataframe thead tr:last-of-type th {\n",
       "        text-align: right;\n",
       "    }\n",
       "</style>\n",
       "<table border=\"1\" class=\"dataframe\">\n",
       "  <thead>\n",
       "    <tr>\n",
       "      <th></th>\n",
       "      <th>Recency</th>\n",
       "      <th>Frequency</th>\n",
       "      <th colspan=\"2\" halign=\"left\">MonetaryValue</th>\n",
       "    </tr>\n",
       "    <tr>\n",
       "      <th></th>\n",
       "      <th>mean</th>\n",
       "      <th>mean</th>\n",
       "      <th>mean</th>\n",
       "      <th>count</th>\n",
       "    </tr>\n",
       "    <tr>\n",
       "      <th>Cluster</th>\n",
       "      <th></th>\n",
       "      <th></th>\n",
       "      <th></th>\n",
       "      <th></th>\n",
       "    </tr>\n",
       "  </thead>\n",
       "  <tbody>\n",
       "    <tr>\n",
       "      <th>0</th>\n",
       "      <td>78.4</td>\n",
       "      <td>13.6</td>\n",
       "      <td>232.0</td>\n",
       "      <td>1621</td>\n",
       "    </tr>\n",
       "    <tr>\n",
       "      <th>1</th>\n",
       "      <td>171.6</td>\n",
       "      <td>3.1</td>\n",
       "      <td>55.3</td>\n",
       "      <td>1225</td>\n",
       "    </tr>\n",
       "    <tr>\n",
       "      <th>2</th>\n",
       "      <td>13.8</td>\n",
       "      <td>52.7</td>\n",
       "      <td>1128.1</td>\n",
       "      <td>855</td>\n",
       "    </tr>\n",
       "  </tbody>\n",
       "</table>\n",
       "</div>"
      ],
      "text/plain": [
       "        Recency Frequency MonetaryValue      \n",
       "           mean      mean          mean count\n",
       "Cluster                                      \n",
       "0          78.4      13.6         232.0  1621\n",
       "1         171.6       3.1          55.3  1225\n",
       "2          13.8      52.7        1128.1   855"
      ]
     },
     "execution_count": 23,
     "metadata": {},
     "output_type": "execute_result"
    }
   ],
   "source": [
    "# Create a dataframe by adding a new cluster label column\n",
    "datamart_rfm_k3 = datamart_rfm.assign(Cluster = cluster_labels)\n",
    "\n",
    "datamart_rfm_k3.groupby(['Cluster']).agg({\n",
    "    'Recency': 'mean',\n",
    "    'Frequency': 'mean',\n",
    "    'MonetaryValue': ['mean','count']\n",
    "}).round(1)\n"
   ]
  },
  {
   "cell_type": "markdown",
   "metadata": {},
   "source": [
    "#### 2.3.4 Visualizing the cohorts\n",
    "Visualizing anything more than 2 features is a problem. However, this obstacle can be resolved via PCA or t-SNE, where those algorithms takes a high dimention dataset and reduces to a lower number of features whilst preserving as much information/variance as possible. I'll explore PCA in more detail in another notebook.\n",
    "\n",
    "[In Depth: Principal Component Analysis by *Jake Vanderplas*](https://jakevdp.github.io/PythonDataScienceHandbook/05.09-principal-component-analysis.html) \n",
    "\n",
    "These are some youtube videos worth a watch if you have a few minutes to spare.<br>\n",
    "[StatQuest: t-SNE clearly explained](https://www.youtube.com/watch?v=NEaUSP4YerM)<br>\n",
    "[StatQuest: PCA step by step](https://www.youtube.com/watch?v=FgakZw6K1QQ)"
   ]
  },
  {
   "cell_type": "markdown",
   "metadata": {},
   "source": [
    "<a id=\"t2.4\"></a>\n",
    "### 2.4. Customer personas analysis\n",
    "Communication is the key to success in any data science project. The ability to explain concepts in a simple manner that be understood by management is utmost important and should never be neglected!\n",
    "\n",
    "#### 2.4.1 Snake plots to understand and compare segments\n",
    "* market reseach technique to compare different segments\n",
    "* visual representation of each segment attributes\n",
    "* need to first normalize data (center * scale)\n",
    "* plot each cluster's average normalized values of each attribute"
   ]
  },
  {
   "cell_type": "code",
   "execution_count": 24,
   "metadata": {},
   "outputs": [],
   "source": [
    "# prepare data for snake plot by melting the dataset\n",
    "datamart_melt = pd.melt(\n",
    "                        datamart_rfm_k3.reset_index(),\n",
    "                        id_vars = ['CustomerID','Cluster'],\n",
    "                        value_vars = ['Recency','Frequency','MonetaryValue'],\n",
    "                        var_name = 'Metric', value_name = 'Value')\n"
   ]
  },
  {
   "cell_type": "code",
   "execution_count": 25,
   "metadata": {
    "scrolled": true
   },
   "outputs": [
    {
     "data": {
      "image/png": "[encoded data removed]",
      "text/plain": [
       "<Figure size 432x288 with 1 Axes>"
      ]
     },
     "metadata": {},
     "output_type": "display_data"
    }
   ],
   "source": [
    "plt.title('Snake plot of normalized variables')\n",
    "plt.xlabel('Metric')\n",
    "plt.ylabel('Value')\n",
    "sns.lineplot(data = datamart_melt, x = 'Metric', y = 'Value', hue = 'Cluster')\n",
    "plt.show()"
   ]
  },
  {
   "cell_type": "markdown",
   "metadata": {},
   "source": [
    "#### 2.4.2 Relative importance of segment attributes\n",
    "* useful technique to identify relative importance of each segment's attribute\n",
    "* calculate average values of each cluster\n",
    "* calculate average values of population\n",
    "* calculate importance score by dividing them and subtracting 1 -> avg(cluster)/avg(population) - 1\n",
    "* compare the averages of the profiling variables of each segment relative to the average of the variables across the whole population. (if all segments are much like the overall population, then there may not be any segments at all)\n",
    "\n",
    "Analyze and plot relative importance \n",
    "* the further a ratio is from 0, the more important that attribute is for a segment relative to the total population\n",
    "* plot a heatmap for easier interpretation"
   ]
  },
  {
   "cell_type": "code",
   "execution_count": 26,
   "metadata": {},
   "outputs": [
    {
     "name": "stdout",
     "output_type": "stream",
     "text": [
      "         Recency  Frequency  MonetaryValue\n",
      "Cluster                                   \n",
      "0          -0.17      -0.29          -0.39\n",
      "1           0.82      -0.84          -0.85\n",
      "2          -0.85       1.75           1.96\n"
     ]
    }
   ],
   "source": [
    "# calculate relative importance of each attribute\n",
    "\n",
    "# Calculate average RFM values for each cluster\n",
    "cluster_avg = datamart_rfm_k3.groupby(['Cluster']).mean()\n",
    "\n",
    "# Calculate average RFM values for the total customer population\n",
    "population_avg = datamart_rfm.mean()\n",
    "\n",
    "# calculate relative importance of cluster's attribute value compared to population\n",
    "# why minus 1? i dont get it\n",
    "relative_imp = cluster_avg / population_avg - 1\n",
    "\n",
    "# Print relative importance scores rounded to 2 decimals\n",
    "print(relative_imp.round(2))"
   ]
  },
  {
   "cell_type": "code",
   "execution_count": 27,
   "metadata": {},
   "outputs": [
    {
     "data": {
      "text/plain": [
       "<matplotlib.axes._subplots.AxesSubplot at 0xcc53b70>"
      ]
     },
     "execution_count": 27,
     "metadata": {},
     "output_type": "execute_result"
    },
    {
     "data": {
      "image/png": "[encoded data removed]",
      "text/plain": [
       "<Figure size 576x144 with 2 Axes>"
      ]
     },
     "metadata": {},
     "output_type": "display_data"
    }
   ],
   "source": [
    "plt.figure(figsize=(8,2))\n",
    "plt.title('Relative importance of attributes')\n",
    "sns.heatmap(data = relative_imp, annot = True, fmt='.2f',cmap = 'RdYlGn')"
   ]
  },
  {
   "cell_type": "markdown",
   "metadata": {},
   "source": [
    "<a id=\"t3\"></a>\n",
    "## 3. Weakness in KMeans\n",
    "k-Means is by no means bullet proof and it definitely has its weaknesses. I will not dive into this issue in this notebook but it'll have to be looked into in future at some point. *Jake VanderPlas* has written extensively on this topic ['Gaussian Mixture Model'](https://jakevdp.github.io/PythonDataScienceHandbook/05.12-gaussian-mixtures.html) so it's definitely worth spending some time on it.\n",
    "\n",
    "Quality materials found during the write up <br>\n",
    "[Cluster Analysis and Segmentation by *T. Evgeniou*](https://inseaddataanalytics.github.io/INSEADAnalytics/CourseSessions/Sessions45/ClusterAnalysisReading.html) <br>\n",
    "[K-means clustering is not a free lunch by *David Robinson*](http://varianceexplained.org/r/kmeans-free-lunch/) <br>\n",
    "[Python Data Science Handbook - In Depth: k-Means Clustering by *Jake VanderPlas*](https://jakevdp.github.io/PythonDataScienceHandbook/05.11-k-means.html)"
   ]
  }
 ],
 "metadata": {
  "kernelspec": {
   "display_name": "Python 3",
   "language": "python",
   "name": "python3"
  },
  "language_info": {
   "codemirror_mode": {
    "name": "ipython",
    "version": 3
   },
   "file_extension": ".py",
   "mimetype": "text/x-python",
   "name": "python",
   "nbconvert_exporter": "python",
   "pygments_lexer": "ipython3",
   "version": "3.6.5"
  }
 },
 "nbformat": 4,
 "nbformat_minor": 2
}
